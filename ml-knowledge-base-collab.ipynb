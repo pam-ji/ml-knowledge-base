{
  "cells": [
    {
      "cell_type": "markdown",
      "metadata": {
        "id": "kxu1Gfhx1pHg"
      },
      "source": [
        "<a href=\"https://colab.research.google.com/github/jeffheaton/app_generative_ai/blob/main/t81_559_class_10_1_streamlit.ipynb\" target=\"_parent\"><img src=\"https://colab.research.google.com/assets/colab-badge.svg\" alt=\"Open In Colab\"/></a>"
      ]
    },
    {
      "cell_type": "markdown",
      "metadata": {
        "id": "ZbNbAV281pHh"
      },
      "source": [
        "# Pamji ml knowledge base\n"
      ]
    },
    {
      "cell_type": "code",
      "source": [
        "# Clone Git repository\n",
        "!git clone https://github.com/pam-ji/ml-knowledge-base\n",
        "%cd ml-knowledge-base\n",
        "\n",
        "# Install required packages\n",
        "# !pip install torch torchvision torchaudio --index-url https://download.pytorch.org/whl/cpu already satisfied in collab\n",
        "!pip install matplotlib numpy streamlit\n",
        "\n",
        "# Install localtunnel for external access\n",
        "!npm install -g localtunnel"
      ],
      "metadata": {
        "id": "7ILUOidYl3pF"
      },
      "execution_count": null,
      "outputs": []
    },
    {
      "cell_type": "code",
      "execution_count": null,
      "metadata": {
        "id": "c0tTbyVC2SMp"
      },
      "outputs": [],
      "source": [
        "!npx localtunnel --port 8501"
      ]
    },
    {
      "cell_type": "markdown",
      "metadata": {
        "id": "rLEnh-CFdl-R"
      },
      "source": [
        "Just like before, we obtain the password, start the server, and then the tunnel."
      ]
    },
    {
      "cell_type": "code",
      "execution_count": null,
      "metadata": {
        "id": "wmMu1L6eRv_G"
      },
      "outputs": [],
      "source": [
        "!curl https://loca.lt/mytunnelpassword"
      ]
    },
    {
      "cell_type": "code",
      "execution_count": 28,
      "metadata": {
        "id": "9C6r3pS_RySE"
      },
      "outputs": [],
      "source": [
        "!streamlit run app/dashboard/app.py &>/content/logs.txt &"
      ]
    },
    {
      "cell_type": "code",
      "execution_count": null,
      "metadata": {
        "id": "nleI8bVhR2_L"
      },
      "outputs": [],
      "source": [
        "!npx localtunnel --port 8501"
      ]
    },
    {
      "cell_type": "markdown",
      "source": [
        "this collabs source is:\n",
        "\n",
        "T81-559: Applications of Generative Artificial Intelligence\n",
        "\n",
        "Module 10: StreamLit\n",
        "\n",
        "    Instructor: Jeff Heaton, McKelvey School of Engineering, Washington University in St. Louis\n",
        "    For more information visit the class website.\n",
        "\n",
        "\n",
        "modified by ji-podhead"
      ],
      "metadata": {
        "id": "8zvJWTX1nyy3"
      }
    }
  ],
  "metadata": {
    "anaconda-cloud": {},
    "colab": {
      "provenance": []
    },
    "kernelspec": {
      "display_name": "Python 3 (ipykernel)",
      "language": "python",
      "name": "python3"
    },
    "language_info": {
      "codemirror_mode": {
        "name": "ipython",
        "version": 3
      },
      "file_extension": ".py",
      "mimetype": "text/x-python",
      "name": "python",
      "nbconvert_exporter": "python",
      "pygments_lexer": "ipython3",
      "version": "3.12.4"
    }
  },
  "nbformat": 4,
  "nbformat_minor": 0
}